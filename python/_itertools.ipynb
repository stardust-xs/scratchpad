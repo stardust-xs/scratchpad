{
 "cells": [
  {
   "cell_type": "markdown",
   "id": "oriented-coordination",
   "metadata": {},
   "source": [
    "# Itertools\n",
    "\n",
    "Quick use case of itertools module from the standard library.<br>\n",
    "This notebook covers the following methods:\n",
    "- [count](#itertools-count)\n",
    "- [cycle](#itertools-cycle)\n",
    "- repeat()\n",
    "- starmap()\n",
    "- zip_longest()\n",
    "\n",
    "<!-- combinations\n",
    "combinations_with_replacement\n",
    "compress\n",
    "count:\n",
    "    One of the infinite iterable and creates an infinite counter.\n",
    "    Takes two args at most, start and step.\n",
    "cycle:\n",
    "    One of the infinite iterable.\n",
    "    Takes an iterator and loops it forever.\n",
    "dropwhile\n",
    "filterfalse\n",
    "groupby\n",
    "islice\n",
    "permutations\n",
    "product\n",
    "repeat:\n",
    "    One of the infinite iterable.\n",
    "    Repeats value indefinitely.\n",
    "    Takes two args at most, object and times.\n",
    "starmap:\n",
    "    Modifies the map to use \"zipped\" arguments to the function.\n",
    "takewhile\n",
    "tee\n",
    "zip_longest:\n",
    "    Zip multiple iterables together but considers only iterable with\n",
    "    maximum length.\n",
    "    Takes two args at most, *args and fillvalue. -->\n",
    "    \n",
    "Let's start by importing it."
   ]
  },
  {
   "cell_type": "code",
   "execution_count": 2,
   "id": "formed-mills",
   "metadata": {},
   "outputs": [],
   "source": [
    "import itertools"
   ]
  },
  {
   "cell_type": "markdown",
   "id": "animal-former",
   "metadata": {},
   "source": [
    "## itertools.count()\n",
    "\n",
    "- One of the infinite iterable and creates an infinite counter.\n",
    "- Takes two args at most, start and step.\n",
    "\n",
    "```python\n",
    "c = itertools.count(start, step)\n",
    "```"
   ]
  },
  {
   "cell_type": "code",
   "execution_count": 11,
   "id": "searching-attendance",
   "metadata": {},
   "outputs": [],
   "source": [
    "c = itertools.count()"
   ]
  },
  {
   "cell_type": "code",
   "execution_count": 12,
   "id": "disciplinary-creator",
   "metadata": {},
   "outputs": [
    {
     "data": {
      "text/plain": [
       "5"
      ]
     },
     "execution_count": 12,
     "metadata": {},
     "output_type": "execute_result"
    }
   ],
   "source": [
    "c          # count(0) -> 0\n",
    "next(c)    # -> 0\n",
    "next(c)    # -> 1\n",
    "next(c)    # -> 2\n",
    "next(c)    # -> 3\n",
    "next(c)    # ...\n",
    "next(c)    # ..."
   ]
  },
  {
   "cell_type": "code",
   "execution_count": 13,
   "id": "varying-colombia",
   "metadata": {},
   "outputs": [
    {
     "data": {
      "text/plain": [
       "30"
      ]
     },
     "execution_count": 13,
     "metadata": {},
     "output_type": "execute_result"
    }
   ],
   "source": [
    "c = itertools.count(start=5, step=5)\n",
    "\n",
    "c          # count(5, 5) -> 5\n",
    "next(c)    # -> 5\n",
    "next(c)    # -> 10\n",
    "next(c)    # -> 15\n",
    "next(c)    # -> 20\n",
    "next(c)    # ...\n",
    "next(c)    # ..."
   ]
  },
  {
   "cell_type": "markdown",
   "id": "plain-cancer",
   "metadata": {},
   "source": [
    "### Implementing itertools.count()"
   ]
  },
  {
   "cell_type": "code",
   "execution_count": 23,
   "id": "champion-railway",
   "metadata": {},
   "outputs": [],
   "source": [
    "from typing import Union\n",
    "\n",
    "NumericType = Union[float, int]\n",
    "\n",
    "\n",
    "def count(start: NumericType = 0, step: NumericType = 1) -> NumericType:\n",
    "    \"\"\"Implementation of itertools.count()\"\"\"\n",
    "    yield start\n",
    "    while True:\n",
    "        start += step\n",
    "        yield start\n",
    "        \n",
    "        \n",
    "c = count()"
   ]
  },
  {
   "cell_type": "code",
   "execution_count": 24,
   "id": "complete-threat",
   "metadata": {},
   "outputs": [
    {
     "data": {
      "text/plain": [
       "5"
      ]
     },
     "execution_count": 24,
     "metadata": {},
     "output_type": "execute_result"
    }
   ],
   "source": [
    "c          # <generator object count at 0x7f816f112350>\n",
    "next(c)    # -> 0\n",
    "next(c)    # -> 1\n",
    "next(c)    # -> 2\n",
    "next(c)    # -> 3\n",
    "next(c)    # ...\n",
    "next(c)    # ..."
   ]
  },
  {
   "cell_type": "code",
   "execution_count": 25,
   "id": "curious-illness",
   "metadata": {},
   "outputs": [
    {
     "data": {
      "text/plain": [
       "30"
      ]
     },
     "execution_count": 25,
     "metadata": {},
     "output_type": "execute_result"
    }
   ],
   "source": [
    "c = count(start=5, step=5)\n",
    "\n",
    "c          # count(5, 5) -> 5\n",
    "next(c)    # -> 5\n",
    "next(c)    # -> 10\n",
    "next(c)    # -> 15\n",
    "next(c)    # -> 20\n",
    "next(c)    # ...\n",
    "next(c)    # ..."
   ]
  },
  {
   "cell_type": "markdown",
   "id": "heard-delight",
   "metadata": {},
   "source": [
    "## itertools.cycle()\n",
    "\n",
    "- One of the infinite iterable.\n",
    "- Takes an iterator and loops it forever.\n",
    "\n",
    "```python\n",
    "y = itertools.cycle(obj)\n",
    "```"
   ]
  },
  {
   "cell_type": "code",
   "execution_count": 29,
   "id": "bottom-steel",
   "metadata": {},
   "outputs": [],
   "source": [
    "a = [1, 2, 3, 4, 5]\n",
    "\n",
    "y = itertools.cycle(a)"
   ]
  },
  {
   "cell_type": "code",
   "execution_count": 30,
   "id": "killing-barbados",
   "metadata": {},
   "outputs": [
    {
     "data": {
      "text/plain": [
       "5"
      ]
     },
     "execution_count": 30,
     "metadata": {},
     "output_type": "execute_result"
    }
   ],
   "source": [
    "y          # <itertools.cycle at 0x7f816f2839c0>\n",
    "next(y)    # -> 1\n",
    "next(y)    # -> 2\n",
    "next(y)    # -> 3\n",
    "next(y)    # -> 4\n",
    "next(y)    # -> 5\n",
    "next(y)    # -> 1\n",
    "next(y)    # -> 2\n",
    "next(y)    # -> 3\n",
    "next(y)    # ...\n",
    "next(y)    # ..."
   ]
  },
  {
   "cell_type": "markdown",
   "id": "initial-highway",
   "metadata": {},
   "source": [
    "### Implementing itertools.cycle()"
   ]
  },
  {
   "cell_type": "code",
   "execution_count": 32,
   "id": "enhanced-angel",
   "metadata": {},
   "outputs": [],
   "source": [
    "from typing import Any, Iterator\n",
    "\n",
    "\n",
    "def cycle(obj: Iterator) -> Any:  # Not sure what would be type annotation here\n",
    "    \"\"\"Implementation of itertools.cycle()\"\"\"\n",
    "    while True:\n",
    "        for idx in obj:\n",
    "            yield idx\n",
    "            \n",
    "\n",
    "y = cycle(a)"
   ]
  },
  {
   "cell_type": "code",
   "execution_count": 34,
   "id": "compact-fellow",
   "metadata": {},
   "outputs": [
    {
     "data": {
      "text/plain": [
       "5"
      ]
     },
     "execution_count": 34,
     "metadata": {},
     "output_type": "execute_result"
    }
   ],
   "source": [
    "y          # <generator object cycle at 0x7f816f12bb30>\n",
    "next(y)    # -> 1\n",
    "next(y)    # -> 2\n",
    "next(y)    # -> 3\n",
    "next(y)    # -> 4\n",
    "next(y)    # -> 5\n",
    "next(y)    # -> 1\n",
    "next(y)    # -> 2\n",
    "next(y)    # -> 3\n",
    "next(y)    # ...\n",
    "next(y)    # ..."
   ]
  },
  {
   "cell_type": "markdown",
   "id": "arbitrary-laugh",
   "metadata": {},
   "source": [
    "## itertools.repeat()\n",
    "\n",
    "- One of the infinite iterable.\n",
    "- Repeats value indefinitely.\n",
    "- Takes two args at most, object and times.\n",
    "\n",
    "```python\n",
    "r = itertools.repeat(obj, times)\n",
    "```"
   ]
  },
  {
   "cell_type": "code",
   "execution_count": 35,
   "id": "residential-source",
   "metadata": {},
   "outputs": [],
   "source": [
    "r = itertools.repeat('XA')"
   ]
  },
  {
   "cell_type": "code",
   "execution_count": 37,
   "id": "supposed-offset",
   "metadata": {},
   "outputs": [
    {
     "data": {
      "text/plain": [
       "'XA'"
      ]
     },
     "execution_count": 37,
     "metadata": {},
     "output_type": "execute_result"
    }
   ],
   "source": [
    "r          # repeat('XA')\n",
    "next(r)    # -> 'XA'\n",
    "next(r)    # -> 'XA'\n",
    "next(r)    # -> 'XA'\n",
    "next(r)    # ...\n",
    "next(r)    # ..."
   ]
  },
  {
   "cell_type": "code",
   "execution_count": 41,
   "id": "amazing-national",
   "metadata": {},
   "outputs": [],
   "source": [
    "r = itertools.repeat('XA', times=3)"
   ]
  },
  {
   "cell_type": "code",
   "execution_count": 42,
   "id": "automatic-constitution",
   "metadata": {},
   "outputs": [
    {
     "ename": "StopIteration",
     "evalue": "",
     "output_type": "error",
     "traceback": [
      "\u001b[0;31m---------------------------------------------------------------------------\u001b[0m",
      "\u001b[0;31mStopIteration\u001b[0m                             Traceback (most recent call last)",
      "\u001b[0;32m<ipython-input-42-c304c79cc61e>\u001b[0m in \u001b[0;36m<module>\u001b[0;34m\u001b[0m\n\u001b[1;32m      3\u001b[0m \u001b[0mnext\u001b[0m\u001b[0;34m(\u001b[0m\u001b[0mr\u001b[0m\u001b[0;34m)\u001b[0m    \u001b[0;31m# -> 'XA'\u001b[0m\u001b[0;34m\u001b[0m\u001b[0;34m\u001b[0m\u001b[0m\n\u001b[1;32m      4\u001b[0m \u001b[0mnext\u001b[0m\u001b[0;34m(\u001b[0m\u001b[0mr\u001b[0m\u001b[0;34m)\u001b[0m    \u001b[0;31m# -> 'XA'\u001b[0m\u001b[0;34m\u001b[0m\u001b[0;34m\u001b[0m\u001b[0m\n\u001b[0;32m----> 5\u001b[0;31m \u001b[0mnext\u001b[0m\u001b[0;34m(\u001b[0m\u001b[0mr\u001b[0m\u001b[0;34m)\u001b[0m    \u001b[0;31m# -> StopIteration ... Traceback (...)\u001b[0m\u001b[0;34m\u001b[0m\u001b[0;34m\u001b[0m\u001b[0m\n\u001b[0m\u001b[1;32m      6\u001b[0m \u001b[0mnext\u001b[0m\u001b[0;34m(\u001b[0m\u001b[0mr\u001b[0m\u001b[0;34m)\u001b[0m    \u001b[0;31m# -> StopIteration ... Traceback (...)\u001b[0m\u001b[0;34m\u001b[0m\u001b[0;34m\u001b[0m\u001b[0m\n\u001b[1;32m      7\u001b[0m \u001b[0mnext\u001b[0m\u001b[0;34m(\u001b[0m\u001b[0mr\u001b[0m\u001b[0;34m)\u001b[0m    \u001b[0;31m# ...\u001b[0m\u001b[0;34m\u001b[0m\u001b[0;34m\u001b[0m\u001b[0m\n",
      "\u001b[0;31mStopIteration\u001b[0m: "
     ]
    }
   ],
   "source": [
    "r          # repeat('XA')\n",
    "next(r)    # -> 'XA'\n",
    "next(r)    # -> 'XA'\n",
    "next(r)    # -> 'XA'\n",
    "next(r)    # -> StopIteration ... Traceback (...)\n",
    "next(r)    # -> StopIteration ... Traceback (...)\n",
    "next(r)    # ..."
   ]
  },
  {
   "cell_type": "markdown",
   "id": "deluxe-commodity",
   "metadata": {},
   "source": [
    "### Implementing itertools.repeat()"
   ]
  },
  {
   "cell_type": "code",
   "execution_count": 43,
   "id": "flying-witch",
   "metadata": {},
   "outputs": [],
   "source": [
    "from typing import Optional\n",
    "\n",
    "\n",
    "def repeat(obj: object, times: Optional = None) -> object:\n",
    "    \"\"\"Implementation of itertools.repeat()\"\"\"\n",
    "    if times:\n",
    "        while times:\n",
    "            yield obj\n",
    "            times -= 1\n",
    "    else:\n",
    "        while True:\n",
    "            yield obj\n",
    "            \n",
    "\n",
    "r = repeat('XA')"
   ]
  },
  {
   "cell_type": "code",
   "execution_count": 45,
   "id": "satellite-ability",
   "metadata": {},
   "outputs": [
    {
     "data": {
      "text/plain": [
       "'XA'"
      ]
     },
     "execution_count": 45,
     "metadata": {},
     "output_type": "execute_result"
    }
   ],
   "source": [
    "r          # <generator object repeat at 0x7f816f49d430>\n",
    "next(r)    # -> 'XA'\n",
    "next(r)    # -> 'XA'\n",
    "next(r)    # -> 'XA'\n",
    "next(r)    # ...\n",
    "next(r)    # ..."
   ]
  },
  {
   "cell_type": "code",
   "execution_count": 46,
   "id": "accompanied-action",
   "metadata": {},
   "outputs": [],
   "source": [
    "r = repeat('XA', times=3)"
   ]
  },
  {
   "cell_type": "code",
   "execution_count": 47,
   "id": "falling-campbell",
   "metadata": {},
   "outputs": [
    {
     "ename": "StopIteration",
     "evalue": "",
     "output_type": "error",
     "traceback": [
      "\u001b[0;31m---------------------------------------------------------------------------\u001b[0m",
      "\u001b[0;31mStopIteration\u001b[0m                             Traceback (most recent call last)",
      "\u001b[0;32m<ipython-input-47-c304c79cc61e>\u001b[0m in \u001b[0;36m<module>\u001b[0;34m\u001b[0m\n\u001b[1;32m      3\u001b[0m \u001b[0mnext\u001b[0m\u001b[0;34m(\u001b[0m\u001b[0mr\u001b[0m\u001b[0;34m)\u001b[0m    \u001b[0;31m# -> 'XA'\u001b[0m\u001b[0;34m\u001b[0m\u001b[0;34m\u001b[0m\u001b[0m\n\u001b[1;32m      4\u001b[0m \u001b[0mnext\u001b[0m\u001b[0;34m(\u001b[0m\u001b[0mr\u001b[0m\u001b[0;34m)\u001b[0m    \u001b[0;31m# -> 'XA'\u001b[0m\u001b[0;34m\u001b[0m\u001b[0;34m\u001b[0m\u001b[0m\n\u001b[0;32m----> 5\u001b[0;31m \u001b[0mnext\u001b[0m\u001b[0;34m(\u001b[0m\u001b[0mr\u001b[0m\u001b[0;34m)\u001b[0m    \u001b[0;31m# -> StopIteration ... Traceback (...)\u001b[0m\u001b[0;34m\u001b[0m\u001b[0;34m\u001b[0m\u001b[0m\n\u001b[0m\u001b[1;32m      6\u001b[0m \u001b[0mnext\u001b[0m\u001b[0;34m(\u001b[0m\u001b[0mr\u001b[0m\u001b[0;34m)\u001b[0m    \u001b[0;31m# -> StopIteration ... Traceback (...)\u001b[0m\u001b[0;34m\u001b[0m\u001b[0;34m\u001b[0m\u001b[0m\n\u001b[1;32m      7\u001b[0m \u001b[0mnext\u001b[0m\u001b[0;34m(\u001b[0m\u001b[0mr\u001b[0m\u001b[0;34m)\u001b[0m    \u001b[0;31m# ...\u001b[0m\u001b[0;34m\u001b[0m\u001b[0;34m\u001b[0m\u001b[0m\n",
      "\u001b[0;31mStopIteration\u001b[0m: "
     ]
    }
   ],
   "source": [
    "r          # repeat('XA')\n",
    "next(r)    # -> 'XA'\n",
    "next(r)    # -> 'XA'\n",
    "next(r)    # -> 'XA'\n",
    "next(r)    # -> StopIteration ... Traceback (...)\n",
    "next(r)    # -> StopIteration ... Traceback (...)\n",
    "next(r)    # ..."
   ]
  },
  {
   "cell_type": "code",
   "execution_count": null,
   "id": "sticky-architecture",
   "metadata": {},
   "outputs": [],
   "source": []
  }
 ],
 "metadata": {
  "kernelspec": {
   "display_name": "Python 3",
   "language": "python",
   "name": "python3"
  },
  "language_info": {
   "codemirror_mode": {
    "name": "ipython",
    "version": 3
   },
   "file_extension": ".py",
   "mimetype": "text/x-python",
   "name": "python",
   "nbconvert_exporter": "python",
   "pygments_lexer": "ipython3",
   "version": "3.8.5"
  }
 },
 "nbformat": 4,
 "nbformat_minor": 5
}
