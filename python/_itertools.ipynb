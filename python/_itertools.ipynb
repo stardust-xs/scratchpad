{
 "cells": [
  {
   "cell_type": "markdown",
   "id": "certain-spain",
   "metadata": {},
   "source": [
    "# Itertools\n",
    "\n",
    "Quick use case of itertools module from the standard library.<br>\n",
    "This notebook covers the following methods:\n",
    "- [count](#itertools-count)\n",
    "- cycle()\n",
    "- repeat()\n",
    "- starmap()\n",
    "- zip_longest()\n",
    "\n",
    "<!-- combinations\n",
    "combinations_with_replacement\n",
    "compress\n",
    "count:\n",
    "    One of the infinite iterable and creates an infinite counter.\n",
    "    Takes two args at most, start and step.\n",
    "cycle:\n",
    "    One of the infinite iterable.\n",
    "    Takes an iterator and loops it forever.\n",
    "dropwhile\n",
    "filterfalse\n",
    "groupby\n",
    "islice\n",
    "permutations\n",
    "product\n",
    "repeat:\n",
    "    One of the infinite iterable.\n",
    "    Repeats value indefinitely.\n",
    "    Takes two args at most, object and times.\n",
    "starmap:\n",
    "    Modifies the map to use \"zipped\" arguments to the function.\n",
    "takewhile\n",
    "tee\n",
    "zip_longest:\n",
    "    Zip multiple iterables together but considers only iterable with\n",
    "    maximum length.\n",
    "    Takes two args at most, *args and fillvalue. -->\n",
    "    \n",
    "Let's start by importing it."
   ]
  },
  {
   "cell_type": "code",
   "execution_count": 2,
   "id": "foster-presence",
   "metadata": {},
   "outputs": [],
   "source": [
    "import itertools"
   ]
  },
  {
   "cell_type": "markdown",
   "id": "adequate-steps",
   "metadata": {},
   "source": [
    "## itertools.count()\n",
    "\n",
    "A simple counter which is also one of the infinite iterable and creates an infinite counter.<br>Takes two args at most, start and step.\n",
    "\n",
    "```python\n",
    "c = itertools.count(start, step)\n",
    "```"
   ]
  },
  {
   "cell_type": "code",
   "execution_count": 11,
   "id": "immediate-burning",
   "metadata": {},
   "outputs": [],
   "source": [
    "c = itertools.count()"
   ]
  },
  {
   "cell_type": "code",
   "execution_count": 12,
   "id": "conditional-arbor",
   "metadata": {},
   "outputs": [
    {
     "data": {
      "text/plain": [
       "5"
      ]
     },
     "execution_count": 12,
     "metadata": {},
     "output_type": "execute_result"
    }
   ],
   "source": [
    "c # count(0) -> 0\n",
    "next(c)    # -> 0\n",
    "next(c)    # -> 1\n",
    "next(c)    # -> 2\n",
    "next(c)    # -> 3\n",
    "next(c)    # ...\n",
    "next(c)    # ..."
   ]
  },
  {
   "cell_type": "code",
   "execution_count": 13,
   "id": "neutral-optimization",
   "metadata": {},
   "outputs": [
    {
     "data": {
      "text/plain": [
       "30"
      ]
     },
     "execution_count": 13,
     "metadata": {},
     "output_type": "execute_result"
    }
   ],
   "source": [
    "c = itertools.count(start=5, step=5)\n",
    "\n",
    "c # count(5, 5) -> 5\n",
    "next(c)    # -> 5\n",
    "next(c)    # -> 10\n",
    "next(c)    # -> 15\n",
    "next(c)    # -> 20\n",
    "next(c)    # ...\n",
    "next(c)    # ..."
   ]
  },
  {
   "cell_type": "markdown",
   "id": "changed-wesley",
   "metadata": {},
   "source": [
    "### Implementing itertools.count()"
   ]
  },
  {
   "cell_type": "code",
   "execution_count": 23,
   "id": "rental-humidity",
   "metadata": {},
   "outputs": [],
   "source": [
    "from typing import Union\n",
    "\n",
    "NumericType = Union[float, int]\n",
    "\n",
    "\n",
    "def count(start: NumericType = 0, step: NumericType = 1) -> NumericType:\n",
    "    \"\"\"Implementation of itertools.count()\"\"\"\n",
    "    yield start\n",
    "    while True:\n",
    "        start += step\n",
    "        yield start\n",
    "        \n",
    "        \n",
    "c = count()"
   ]
  },
  {
   "cell_type": "code",
   "execution_count": 24,
   "id": "fixed-reliance",
   "metadata": {},
   "outputs": [
    {
     "data": {
      "text/plain": [
       "5"
      ]
     },
     "execution_count": 24,
     "metadata": {},
     "output_type": "execute_result"
    }
   ],
   "source": [
    "c          # <generator object count at 0x7f816f112350>\n",
    "next(c)    # -> 0\n",
    "next(c)    # -> 1\n",
    "next(c)    # -> 2\n",
    "next(c)    # -> 3\n",
    "next(c)    # ...\n",
    "next(c)    # ..."
   ]
  },
  {
   "cell_type": "code",
   "execution_count": 25,
   "id": "appropriate-response",
   "metadata": {},
   "outputs": [
    {
     "data": {
      "text/plain": [
       "30"
      ]
     },
     "execution_count": 25,
     "metadata": {},
     "output_type": "execute_result"
    }
   ],
   "source": [
    "c = count(start=5, step=5)\n",
    "\n",
    "c # count(5, 5) -> 5\n",
    "next(c)    # -> 5\n",
    "next(c)    # -> 10\n",
    "next(c)    # -> 15\n",
    "next(c)    # -> 20\n",
    "next(c)    # ...\n",
    "next(c)    # ..."
   ]
  },
  {
   "cell_type": "code",
   "execution_count": null,
   "id": "stone-roberts",
   "metadata": {},
   "outputs": [],
   "source": []
  }
 ],
 "metadata": {
  "kernelspec": {
   "display_name": "Python 3",
   "language": "python",
   "name": "python3"
  },
  "language_info": {
   "codemirror_mode": {
    "name": "ipython",
    "version": 3
   },
   "file_extension": ".py",
   "mimetype": "text/x-python",
   "name": "python",
   "nbconvert_exporter": "python",
   "pygments_lexer": "ipython3",
   "version": "3.8.5"
  }
 },
 "nbformat": 4,
 "nbformat_minor": 5
}
